{
 "cells": [
  {
   "cell_type": "code",
   "execution_count": 1,
   "id": "1c86bd44",
   "metadata": {},
   "outputs": [
    {
     "name": "stderr",
     "output_type": "stream",
     "text": [
      "/Library/Frameworks/Python.framework/Versions/3.11/lib/python3.11/site-packages/tqdm/auto.py:21: TqdmWarning: IProgress not found. Please update jupyter and ipywidgets. See https://ipywidgets.readthedocs.io/en/stable/user_install.html\n",
      "  from .autonotebook import tqdm as notebook_tqdm\n"
     ]
    }
   ],
   "source": [
    "import pandas as pd\n",
    "import torch\n",
    "from sklearn.model_selection import train_test_split\n",
    "from sklearn.metrics import accuracy_score, precision_score, recall_score, f1_score\n",
    "from transformers import MobileBertTokenizer, MobileBertForSequenceClassification, AdamW"
   ]
  },
  {
   "cell_type": "code",
   "execution_count": 2,
   "id": "f963da2e",
   "metadata": {},
   "outputs": [
    {
     "name": "stdout",
     "output_type": "stream",
     "text": [
      "                                             Twitler  Durum\n",
      "0  a101 6 nisan firsatlari\\n\\nucuzkenaldim \\n\\nre...      1\n",
      "1                                         trendyol        1\n",
      "2                            alisverislerime devam        1\n",
      "3  kargolarimi bana ulastirmak icin defalarca ara...      1\n",
      "4              favorilerimin hepsini almak isterdim       1\n",
      "            Durum\n",
      "count  386.000000\n",
      "mean     0.500000\n",
      "std      0.500649\n",
      "min      0.000000\n",
      "25%      0.000000\n",
      "50%      0.500000\n",
      "75%      1.000000\n",
      "max      1.000000\n"
     ]
    }
   ],
   "source": [
    "# Veri setini yükleme\n",
    "data = pd.read_csv('0206_veriler.csv')\n",
    "\n",
    "# Veri setini inceleme\n",
    "print(data.head())\n",
    "print(data.describe())\n",
    "\n",
    "# Veri setini eğitim ve test kümelerine ayırma\n",
    "X = data['Twitler']\n",
    "y = data['Durum']\n",
    "X_train, X_test, y_train, y_test = train_test_split(X, y, test_size=0.2, random_state=42)"
   ]
  },
  {
   "cell_type": "code",
   "execution_count": 3,
   "id": "04ed61fa",
   "metadata": {},
   "outputs": [],
   "source": [
    "# MobileBERT tokenizer'ını oluşturma\n",
    "tokenizer = MobileBertTokenizer.from_pretrained('google/mobilebert-uncased', do_lower_case=True)"
   ]
  },
  {
   "cell_type": "code",
   "execution_count": 4,
   "id": "5114a4aa",
   "metadata": {},
   "outputs": [
    {
     "name": "stderr",
     "output_type": "stream",
     "text": [
      "Asking to truncate to max_length but no maximum length is provided and the model has no predefined maximum length. Default to no truncation.\n"
     ]
    }
   ],
   "source": [
    "# Veri setini tokenleme\n",
    "train_encodings = tokenizer(list(X_train), truncation=True, padding=True)\n",
    "test_encodings = tokenizer(list(X_test), truncation=True, padding=True)\n"
   ]
  },
  {
   "cell_type": "code",
   "execution_count": 5,
   "id": "a36290db",
   "metadata": {},
   "outputs": [],
   "source": [
    "# PyTorch tensörlerine dönüştürme\n",
    "train_inputs = torch.tensor(train_encodings['input_ids'])\n",
    "train_labels = torch.tensor(list(y_train))\n",
    "train_masks = torch.tensor(train_encodings['attention_mask'])\n",
    "test_inputs = torch.tensor(test_encodings['input_ids'])\n",
    "test_labels = torch.tensor(list(y_test))\n",
    "test_masks = torch.tensor(test_encodings['attention_mask'])"
   ]
  },
  {
   "cell_type": "code",
   "execution_count": 6,
   "id": "a1ed17ea",
   "metadata": {},
   "outputs": [],
   "source": [
    "# GPU kullanımı için tensörleri taşıma\n",
    "device = torch.device('cuda' if torch.cuda.is_available() else 'cpu')\n",
    "train_inputs = train_inputs.to(device)\n",
    "train_labels = train_labels.to(device)\n",
    "train_masks = train_masks.to(device)\n",
    "test_inputs = test_inputs.to(device)\n",
    "test_labels = test_labels.to(device)\n",
    "test_masks = test_masks.to(device)\n"
   ]
  },
  {
   "cell_type": "code",
   "execution_count": 7,
   "id": "66be49c4",
   "metadata": {},
   "outputs": [
    {
     "name": "stderr",
     "output_type": "stream",
     "text": [
      "Some weights of the model checkpoint at google/mobilebert-uncased were not used when initializing MobileBertForSequenceClassification: ['cls.predictions.decoder.bias', 'cls.predictions.transform.dense.weight', 'cls.predictions.transform.LayerNorm.bias', 'cls.predictions.decoder.weight', 'cls.predictions.bias', 'cls.predictions.transform.dense.bias', 'cls.predictions.transform.LayerNorm.weight', 'cls.predictions.dense.weight', 'cls.seq_relationship.weight', 'cls.seq_relationship.bias']\n",
      "- This IS expected if you are initializing MobileBertForSequenceClassification from the checkpoint of a model trained on another task or with another architecture (e.g. initializing a BertForSequenceClassification model from a BertForPreTraining model).\n",
      "- This IS NOT expected if you are initializing MobileBertForSequenceClassification from the checkpoint of a model that you expect to be exactly identical (initializing a BertForSequenceClassification model from a BertForSequenceClassification model).\n",
      "Some weights of MobileBertForSequenceClassification were not initialized from the model checkpoint at google/mobilebert-uncased and are newly initialized: ['classifier.weight', 'classifier.bias']\n",
      "You should probably TRAIN this model on a down-stream task to be able to use it for predictions and inference.\n"
     ]
    },
    {
     "data": {
      "text/plain": [
       "MobileBertForSequenceClassification(\n",
       "  (mobilebert): MobileBertModel(\n",
       "    (embeddings): MobileBertEmbeddings(\n",
       "      (word_embeddings): Embedding(30522, 128, padding_idx=0)\n",
       "      (position_embeddings): Embedding(512, 512)\n",
       "      (token_type_embeddings): Embedding(2, 512)\n",
       "      (embedding_transformation): Linear(in_features=384, out_features=512, bias=True)\n",
       "      (LayerNorm): NoNorm()\n",
       "      (dropout): Dropout(p=0.0, inplace=False)\n",
       "    )\n",
       "    (encoder): MobileBertEncoder(\n",
       "      (layer): ModuleList(\n",
       "        (0-23): 24 x MobileBertLayer(\n",
       "          (attention): MobileBertAttention(\n",
       "            (self): MobileBertSelfAttention(\n",
       "              (query): Linear(in_features=128, out_features=128, bias=True)\n",
       "              (key): Linear(in_features=128, out_features=128, bias=True)\n",
       "              (value): Linear(in_features=512, out_features=128, bias=True)\n",
       "              (dropout): Dropout(p=0.1, inplace=False)\n",
       "            )\n",
       "            (output): MobileBertSelfOutput(\n",
       "              (dense): Linear(in_features=128, out_features=128, bias=True)\n",
       "              (LayerNorm): NoNorm()\n",
       "            )\n",
       "          )\n",
       "          (intermediate): MobileBertIntermediate(\n",
       "            (dense): Linear(in_features=128, out_features=512, bias=True)\n",
       "            (intermediate_act_fn): ReLU()\n",
       "          )\n",
       "          (output): MobileBertOutput(\n",
       "            (dense): Linear(in_features=512, out_features=128, bias=True)\n",
       "            (LayerNorm): NoNorm()\n",
       "            (bottleneck): OutputBottleneck(\n",
       "              (dense): Linear(in_features=128, out_features=512, bias=True)\n",
       "              (LayerNorm): NoNorm()\n",
       "              (dropout): Dropout(p=0.0, inplace=False)\n",
       "            )\n",
       "          )\n",
       "          (bottleneck): Bottleneck(\n",
       "            (input): BottleneckLayer(\n",
       "              (dense): Linear(in_features=512, out_features=128, bias=True)\n",
       "              (LayerNorm): NoNorm()\n",
       "            )\n",
       "            (attention): BottleneckLayer(\n",
       "              (dense): Linear(in_features=512, out_features=128, bias=True)\n",
       "              (LayerNorm): NoNorm()\n",
       "            )\n",
       "          )\n",
       "          (ffn): ModuleList(\n",
       "            (0-2): 3 x FFNLayer(\n",
       "              (intermediate): MobileBertIntermediate(\n",
       "                (dense): Linear(in_features=128, out_features=512, bias=True)\n",
       "                (intermediate_act_fn): ReLU()\n",
       "              )\n",
       "              (output): FFNOutput(\n",
       "                (dense): Linear(in_features=512, out_features=128, bias=True)\n",
       "                (LayerNorm): NoNorm()\n",
       "              )\n",
       "            )\n",
       "          )\n",
       "        )\n",
       "      )\n",
       "    )\n",
       "    (pooler): MobileBertPooler()\n",
       "  )\n",
       "  (dropout): Dropout(p=0.0, inplace=False)\n",
       "  (classifier): Linear(in_features=512, out_features=2, bias=True)\n",
       ")"
      ]
     },
     "execution_count": 7,
     "metadata": {},
     "output_type": "execute_result"
    }
   ],
   "source": [
    "# MobileBERT modelini yükleme\n",
    "model = MobileBertForSequenceClassification.from_pretrained('google/mobilebert-uncased', num_labels=2)\n",
    "model.to(device)\n"
   ]
  },
  {
   "cell_type": "code",
   "execution_count": 8,
   "id": "912e182a",
   "metadata": {},
   "outputs": [
    {
     "name": "stderr",
     "output_type": "stream",
     "text": [
      "/Library/Frameworks/Python.framework/Versions/3.11/lib/python3.11/site-packages/transformers/optimization.py:407: FutureWarning: This implementation of AdamW is deprecated and will be removed in a future version. Use the PyTorch implementation torch.optim.AdamW instead, or set `no_deprecation_warning=True` to disable this warning\n",
      "  warnings.warn(\n"
     ]
    }
   ],
   "source": [
    "# Optimizer ve öğrenme oranını belirleme\n",
    "optimizer = AdamW(model.parameters(), lr=1e-5)\n"
   ]
  },
  {
   "cell_type": "code",
   "execution_count": 9,
   "id": "b2f9e5b9",
   "metadata": {},
   "outputs": [
    {
     "name": "stdout",
     "output_type": "stream",
     "text": [
      "Epoch: 1 Loss: 1465209.75 Train Time: 41.711511850357056 Test Time: 7.1952738761901855\n",
      "Epoch: 2 Loss: 1318217.75 Train Time: 40.61799097061157 Test Time: 7.054066896438599\n",
      "Epoch: 3 Loss: 1160635.75 Train Time: 39.8877170085907 Test Time: 7.391276121139526\n",
      "Epoch: 4 Loss: 1039689.875 Train Time: 40.54897403717041 Test Time: 7.458959102630615\n",
      "Epoch: 5 Loss: 922621.625 Train Time: 46.42796492576599 Test Time: 7.756704092025757\n",
      "Epoch: 6 Loss: 800701.125 Train Time: 47.83516216278076 Test Time: 8.527400970458984\n",
      "Epoch: 7 Loss: 689374.5625 Train Time: 43.58752417564392 Test Time: 7.89876914024353\n",
      "Epoch: 8 Loss: 581185.6875 Train Time: 45.62755513191223 Test Time: 7.899069786071777\n",
      "Epoch: 9 Loss: 491854.125 Train Time: 43.56404709815979 Test Time: 7.2418999671936035\n",
      "Epoch: 10 Loss: 416605.96875 Train Time: 41.826844930648804 Test Time: 7.377382040023804\n"
     ]
    }
   ],
   "source": [
    "import time\n",
    "\n",
    "# Eğitim döngüsü\n",
    "model.train()\n",
    "\n",
    "train_loss_values = []\n",
    "test_loss_values = []\n",
    "train_accuracy_values = []\n",
    "test_accuracy_values = []\n",
    "\n",
    "for epoch in range(10):\n",
    "    optimizer.zero_grad()\n",
    "    start_time = time.time()\n",
    "    outputs = model(input_ids=train_inputs, attention_mask=train_masks, labels=train_labels)\n",
    "    loss = outputs.loss\n",
    "    loss.backward()\n",
    "    optimizer.step()\n",
    "    end_time = time.time()\n",
    "    epoch_time = end_time - start_time\n",
    "\n",
    "    # Eğitim ve test verileri üzerinde loss değerlerini ve doğruluk değerlerini hesaplama\n",
    "    train_loss_values.append(loss.item())\n",
    "    model.eval()\n",
    "    with torch.no_grad():\n",
    "        start_time = time.time()\n",
    "        train_outputs = model(input_ids=train_inputs, attention_mask=train_masks)\n",
    "        train_logits = train_outputs.logits\n",
    "        train_predictions = torch.argmax(train_logits, dim=1)\n",
    "        train_accuracy = accuracy_score(list(train_labels.cpu()), list(train_predictions.cpu()))\n",
    "        train_accuracy_values.append(train_accuracy)\n",
    "\n",
    "        test_outputs = model(input_ids=test_inputs, attention_mask=test_masks)\n",
    "        test_logits = test_outputs.logits\n",
    "        test_predictions = torch.argmax(test_logits, dim=1)\n",
    "        test_accuracy = accuracy_score(list(test_labels.cpu()), list(test_predictions.cpu()))\n",
    "        test_accuracy_values.append(test_accuracy)\n",
    "        end_time = time.time()\n",
    "        test_time = end_time - start_time\n",
    "    \n",
    "    model.train()\n",
    "\n",
    "    # Epoch numarasını, loss değerini ve süreleri yazdırma\n",
    "    print(\"Epoch:\", epoch+1, \"Loss:\", loss.item(), \"Train Time:\", epoch_time, \"Test Time:\", test_time)"
   ]
  },
  {
   "cell_type": "code",
   "execution_count": 12,
   "id": "cea1cda4",
   "metadata": {},
   "outputs": [
    {
     "name": "stdout",
     "output_type": "stream",
     "text": [
      "Accuracy: 0.6282051282051282\n",
      "Precision: 0.6282051282051282\n",
      "Recall: 1.0\n",
      "F1-Score: 0.7716535433070866\n"
     ]
    }
   ],
   "source": [
    "# Değerlendirme metriklerini hesaplama\n",
    "predictions = torch.argmax(test_logits, dim=1)\n",
    "accuracy = accuracy_score(list(test_labels.cpu()), list(predictions.cpu()))\n",
    "precision = precision_score(list(test_labels.cpu()), list(predictions.cpu()))\n",
    "recall = recall_score(list(test_labels.cpu()), list(predictions.cpu()))\n",
    "f1 = f1_score(list(test_labels.cpu()), list(predictions.cpu()))\n",
    "\n",
    "# Değerlendirme metriklerini hesaplama\n",
    "predictions = torch.argmax(test_logits, dim=1)\n",
    "accuracy = accuracy_score(list(test_labels.cpu()), list(predictions.cpu()))\n",
    "precision = precision_score(list(test_labels.cpu()), list(predictions.cpu()))\n",
    "recall = recall_score(list(test_labels.cpu()), list(predictions.cpu()))\n",
    "f1 = f1_score(list(test_labels.cpu()), list(predictions.cpu()))\n",
    "\n",
    "# Sonuçları yazdırma\n",
    "print(\"Accuracy:\", accuracy)\n",
    "print(\"Precision:\", precision)\n",
    "print(\"Recall:\", recall)\n",
    "print(\"F1-Score:\", f1)\n"
   ]
  },
  {
   "cell_type": "code",
   "execution_count": 14,
   "id": "c876ebbc",
   "metadata": {},
   "outputs": [
    {
     "data": {
      "image/png": "[encoded data removed]",
      "text/plain": [
       "<Figure size 1000x500 with 1 Axes>"
      ]
     },
     "metadata": {},
     "output_type": "display_data"
    },
    {
     "data": {
      "image/png": "[encoded data removed]",
      "text/plain": [
       "<Figure size 1000x500 with 1 Axes>"
      ]
     },
     "metadata": {},
     "output_type": "display_data"
    }
   ],
   "source": [
    "import matplotlib.pyplot as plt\n",
    "\n",
    "# Eğitim ve test loss değerlerini ve doğruluk değerlerini grafiğe dökme\n",
    "plt.figure(figsize=(10, 5))\n",
    "plt.plot(train_loss_values, label='Training Loss')\n",
    "plt.plot(test_loss_values, label='Test Loss')\n",
    "plt.xlabel('Epoch')\n",
    "plt.ylabel('Loss')\n",
    "plt.legend()\n",
    "plt.show()\n",
    "\n",
    "plt.figure(figsize=(10, 5))\n",
    "plt.plot(train_accuracy_values, label='Training Accuracy')\n",
    "plt.plot(test_accuracy_values, label='Test Accuracy')\n",
    "plt.xlabel('Epoch')\n",
    "plt.ylabel('Accuracy')\n",
    "plt.legend()\n",
    "plt.show()"
   ]
  },
  {
   "cell_type": "code",
   "execution_count": null,
   "id": "b1e8f9a5",
   "metadata": {},
   "outputs": [],
   "source": []
  }
 ],
 "metadata": {
  "kernelspec": {
   "display_name": "Python 3 (ipykernel)",
   "language": "python",
   "name": "python3"
  },
  "language_info": {
   "codemirror_mode": {
    "name": "ipython",
    "version": 3
   },
   "file_extension": ".py",
   "mimetype": "text/x-python",
   "name": "python",
   "nbconvert_exporter": "python",
   "pygments_lexer": "ipython3",
   "version": "3.11.1"
  }
 },
 "nbformat": 4,
 "nbformat_minor": 5
}
